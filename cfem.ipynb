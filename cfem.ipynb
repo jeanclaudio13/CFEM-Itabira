{
 "cells": [
  {
   "cell_type": "code",
   "execution_count": 48,
   "metadata": {},
   "outputs": [],
   "source": [
    "from selenium import webdriver\n",
    "from selenium.webdriver.support.select import Select\n",
    "from selenium.webdriver.common.by import By\n",
    "from selenium.webdriver.support.ui import WebDriverWait\n",
    "from selenium.webdriver.support import expected_conditions as EC\n",
    "from selenium.common.exceptions import TimeoutException, NoSuchElementException\n",
    "import time\n",
    "\n",
    "driver = webdriver.Chrome()\n",
    "#driver.get(\"https://transparenciabrasil-cidadao.govbr.cloud/transparenciabrasil-cidadao/itabira/prefeitura/conteudo?urlMenu=https:%2F%2Fservicositabira.govbr.cloud%2Fpronimtb%2Findex.asp%3Facao%3D3%26item%3D6%26reestruturacao\")\n",
    "driver.get(\"https://servicositabira.govbr.cloud/pronimtb/index.asp?acao=3&item=6\")\n",
    "\n",
    "# Esperar até que o DOM esteja carregado\n",
    "wait = WebDriverWait(driver, 10)\n",
    "wait.until(EC.presence_of_element_located((By.TAG_NAME, 'body')))\n",
    "\n",
    "# Lidando com as datas\n",
    "data_inicial = driver.find_element(By.ID, \"txtDataInicial\")\n",
    "data_inicial.clear()\n",
    "data_inicial.send_keys(\"01012024\")\n",
    "\n",
    "data_final = driver.find_element(By.ID, \"txtDataFinal\")\n",
    "data_final.clear()\n",
    "data_final.send_keys(\"31012024\")\n",
    "\n",
    "\n",
    "# Unidade Gestora\n",
    "select_element = driver.find_element(By.ID, 'cmbUnidadeGestora')\n",
    "select = Select(select_element)\n",
    "select.select_by_value('0')  # Selecionar a opção com valor '0'\n",
    "\n",
    "# Executar a função JavaScript para atualizar os filtros na página\n",
    "driver.execute_script('atualizaFiltroPagina();')\n",
    "element = driver.find_element(By.ID, \"confirma\")\n",
    "element.click()\n",
    "\n",
    "\n",
    "\n",
    "# Selecionando CFEM na Tabela\n",
    "wait.until(EC.presence_of_element_located((By.TAG_NAME, 'body')))\n",
    "try:\n",
    "    # Localize o link pelo texto\n",
    "    link = driver.find_element(By.LINK_TEXT, \"Transf União Referente à Compensação Financeira de Recursos Minerais\")\n",
    "    \n",
    "    # Clique no link\n",
    "    link.click()\n",
    "\n",
    "    # Espera até que a página seja carregada após o clique no link\n",
    "    time.sleep(5)  # Ajuste o tempo conforme necessário para aguardar o carregamento da página\n",
    "    \n",
    "    # Aqui você pode adicionar código para interagir com a nova página, se necessário\n",
    "\n",
    "except TimeoutException:\n",
    "    print(\"Ocorreu um timeout ao esperar por um elemento.\")\n",
    "except NoSuchElementException:\n",
    "    print(\"Não foi possível encontrar um elemento.\")\n"
   ]
  },
  {
   "cell_type": "markdown",
   "metadata": {},
   "source": [
    "POST (LimparHistoricos)"
   ]
  }
 ],
 "metadata": {
  "kernelspec": {
   "display_name": "Python 3",
   "language": "python",
   "name": "python3"
  },
  "language_info": {
   "codemirror_mode": {
    "name": "ipython",
    "version": 3
   },
   "file_extension": ".py",
   "mimetype": "text/x-python",
   "name": "python",
   "nbconvert_exporter": "python",
   "pygments_lexer": "ipython3",
   "version": "3.11.5"
  }
 },
 "nbformat": 4,
 "nbformat_minor": 2
}
