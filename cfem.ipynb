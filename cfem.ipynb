{
 "cells": [
  {
   "cell_type": "code",
   "execution_count": 10,
   "metadata": {},
   "outputs": [],
   "source": [
    "from selenium import webdriver\n",
    "from selenium.webdriver.support.select import Select\n",
    "from selenium.webdriver.common.by import By\n",
    "from selenium.webdriver.support.ui import WebDriverWait\n",
    "from selenium.webdriver.support import expected_conditions as EC\n",
    "\n",
    "driver = webdriver.Chrome()\n",
    "driver.get(\"https://transparenciabrasil-cidadao.govbr.cloud/transparenciabrasil-cidadao/itabira/prefeitura/conteudo?urlMenu=https:%2F%2Fservicositabira.govbr.cloud%2Fpronimtb%2Findex.asp%3Facao%3D3%26item%3D6%26reestruturacao\")\n",
    "\n",
    "\n",
    "driver.implicitly_wait(10)"
   ]
  },
  {
   "cell_type": "code",
   "execution_count": null,
   "metadata": {},
   "outputs": [],
   "source": [
    "\n",
    "# Encontra o elemento select\n",
    "select_element = driver.find_element(By.ID, \"cmbUnidadeGestora\")\n",
    "\n",
    "# Cria um objeto Select a partir do elemento\n",
    "select = Select(select_element)\n",
    "\n",
    "# Seleciona uma opção pelo valor\n",
    "select.select_by_value(\"2\")  # Altere para o valor desejado"
   ]
  },
  {
   "cell_type": "code",
   "execution_count": null,
   "metadata": {},
   "outputs": [],
   "source": [
    "\n",
    "\n",
    "# Wait for the element with the name \"txtDataInicial\" to be present\n",
    "wait = WebDriverWait(driver, 20)\n",
    "data_inicial = wait.until(EC.presence_of_element_located((By.NAME, \"txtDataInicial\")))\n",
    "\n",
    "# Set the value of the hidden element using JavaScript\n",
    "driver.execute_script(\"arguments[0].value = '01032024';\", data_inicial)\n",
    "\n",
    "# Submit the form\n",
    "data_inicial.submit()"
   ]
  },
  {
   "cell_type": "code",
   "execution_count": null,
   "metadata": {},
   "outputs": [],
   "source": [
    "# Wait for the element with the name \"txtDataInicial\" to be visible\n",
    "wait = WebDriverWait(driver, 20)\n",
    "data_inicial = wait.until(EC.visibility_of_element_located((By.NAME, \"txtDataInicial\")))\n",
    "\n",
    "data_inicial.send_keys(\"01032024\")\n",
    "data_inicial.send_keys(Keys.RETURN)\n",
    "data_inicial.clear()"
   ]
  },
  {
   "cell_type": "markdown",
   "metadata": {},
   "source": [
    "## Scripts"
   ]
  },
  {
   "cell_type": "code",
   "execution_count": null,
   "metadata": {},
   "outputs": [],
   "source": [
    "from selenium import webdriver\n",
    "import time\n",
    "\n",
    "# Configurar o Selenium WebDriver (usando o Chrome)\n",
    "driver = webdriver.Chrome()\n",
    "\n",
    "# Abrir a página da API do Portal da Transparência\n",
    "driver.get(\"https://www.transparencia.gov.br/swagger-ui.html\")\n",
    "\n",
    "# Aguardar o carregamento da página\n",
    "time.sleep(3)\n",
    "\n",
    "# Encontrar o link \"APIs\" e clicar nele\n",
    "apis_link = driver.find_element_by_link_text(\"APIs\")\n",
    "apis_link.click()\n",
    "\n",
    "# Aguardar o carregamento da página de APIs\n",
    "time.sleep(3)\n",
    "\n",
    "# Encontrar o link \"Dados Abertos\" e clicar nele\n",
    "dados_abertos_link = driver.find_element_by_link_text(\"Dados Abertos\")\n",
    "dados_abertos_link.click()\n",
    "\n",
    "# Aguardar o carregamento da página de Dados Abertos\n",
    "time.sleep(3)\n",
    "\n",
    "# Encontrar o link \"Consultas\" e clicar nele\n",
    "consultas_link = driver.find_element_by_link_text(\"Consultas\")\n",
    "consultas_link.click()\n",
    "\n",
    "# Aguardar o carregamento da página de Consultas\n",
    "time.sleep(3)\n",
    "\n",
    "# Encontrar o link \"Execução Orçamentária\" e clicar nele\n",
    "execucao_orcamentaria_link = driver.find_element_by_link_text(\"Execução Orçamentária\")\n",
    "execucao_orcamentaria_link.click()\n",
    "\n",
    "# Aguardar o carregamento da página de Execução Orçamentária\n",
    "time.sleep(3)\n",
    "\n",
    "# Encontrar o botão \"Consultar\" e clicar nele\n",
    "consultar_button = driver.find_element_by_xpath(\"//button[contains(text(), 'Consultar')]\")\n",
    "consultar_button.click()\n",
    "\n",
    "# Aguardar o carregamento dos dados\n",
    "time.sleep(5)\n",
    "\n",
    "# Imprimir a URL atual (que contém o endpoint da API)\n",
    "print(\"URL do Endpoint da API:\", driver.current_url)\n",
    "\n",
    "# Fechar o navegador\n",
    "driver.quit()\n"
   ]
  }
 ],
 "metadata": {
  "kernelspec": {
   "display_name": "Python 3",
   "language": "python",
   "name": "python3"
  },
  "language_info": {
   "codemirror_mode": {
    "name": "ipython",
    "version": 3
   },
   "file_extension": ".py",
   "mimetype": "text/x-python",
   "name": "python",
   "nbconvert_exporter": "python",
   "pygments_lexer": "ipython3",
   "version": "3.11.5"
  }
 },
 "nbformat": 4,
 "nbformat_minor": 2
}
