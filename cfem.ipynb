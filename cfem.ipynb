{
 "cells": [
  {
   "cell_type": "markdown",
   "metadata": {},
   "source": [
    "# CFEM - Itabira"
   ]
  },
  {
   "cell_type": "markdown",
   "metadata": {},
   "source": [
    "## 1. Coleta de Dados\n",
    "\n",
    "### 1.1 Conexão"
   ]
  },
  {
   "cell_type": "code",
   "execution_count": 1,
   "metadata": {},
   "outputs": [
    {
     "data": {
      "text/plain": [
       "<selenium.webdriver.remote.webelement.WebElement (session=\"4d0e7b784a14f2e06072bb1249d61271\", element=\"f.7F326916E6FF8A8B4E641505607FE2FB.d.DAAB09633C1541E304C9B931A7AB431D.e.250\")>"
      ]
     },
     "execution_count": 1,
     "metadata": {},
     "output_type": "execute_result"
    }
   ],
   "source": [
    "from selenium import webdriver\n",
    "from selenium.webdriver.support.select import Select\n",
    "from selenium.webdriver.common.by import By\n",
    "from selenium.webdriver.support.ui import WebDriverWait\n",
    "from selenium.webdriver.support import expected_conditions as EC\n",
    "from selenium.common.exceptions import TimeoutException, NoSuchElementException\n",
    "import time\n",
    "import json\n",
    "from bs4 import BeautifulSoup\n",
    "import os\n",
    "\n",
    "\n",
    "driver = webdriver.Chrome()\n",
    "url_paginaInicial = \"https://servicositabira.govbr.cloud/pronimtb/\"\n",
    "url_despesas_fonteDeRecurso = \"https://servicositabira.govbr.cloud/pronimtb/index.asp?acao=3&item=6\"\n",
    "\n",
    "driver.get(url_despesas_fonteDeRecurso) # Pagina Inicial > Despesas > Fonte de Recurso\n",
    "\n",
    "# Esperar até que o DOM esteja carregado\n",
    "wait = WebDriverWait(driver, 10)\n",
    "wait.until(EC.presence_of_element_located((By.TAG_NAME, 'body')))\n"
   ]
  },
  {
   "cell_type": "markdown",
   "metadata": {},
   "source": [
    "### 1.2 Filtros"
   ]
  },
  {
   "cell_type": "code",
   "execution_count": 2,
   "metadata": {},
   "outputs": [],
   "source": [
    "# Data inicial\n",
    "data_inicial = driver.find_element(By.ID, \"txtDataInicial\")\n",
    "data_inicial.clear()\n",
    "data_inicial.send_keys(\"01012024\")\n",
    "\n",
    "# Data final \n",
    "data_final = driver.find_element(By.ID, \"txtDataFinal\")\n",
    "data_final.clear()\n",
    "data_final.send_keys(\"31012024\")\n",
    "\n",
    "\n",
    "# Unidade Gestora\n",
    "select_element = driver.find_element(By.ID, 'cmbUnidadeGestora')\n",
    "select = Select(select_element)\n",
    "select.select_by_value('0')  # Selecionar a opção com valor '0'\n",
    "\n",
    "# Clicar no botão \"Gerar\"\n",
    "element = driver.find_element(By.ID, \"confirma\")\n",
    "element.click()"
   ]
  },
  {
   "cell_type": "markdown",
   "metadata": {},
   "source": [
    "### 1.3 Função ler_tabela()"
   ]
  },
  {
   "cell_type": "code",
   "execution_count": 75,
   "metadata": {},
   "outputs": [],
   "source": [
    "# def ler_tabela(nome_dados):\n",
    "\n",
    "#     html_table = wait.until(EC.presence_of_element_located((By.ID, 'tbTabela')))\n",
    "\n",
    "#     # Passar o objeto html_table para BeautifulSoup\n",
    "#     soup = BeautifulSoup(html_table.get_attribute('outerHTML'), 'html.parser')\n",
    "\n",
    "#     # Find the table element\n",
    "#     table = soup.find('table')\n",
    "\n",
    "#     # Initialize an empty dictionary to store the table data\n",
    "#     table_data = {}\n",
    "\n",
    "#     # Extract the headers from the table\n",
    "#     header_row = table.find_all('tr')[1]  # Assuming the second row is the header\n",
    "#     headers = header_row.find_all('th')\n",
    "#     headers_text = [header.text.strip() for header in headers]\n",
    "\n",
    "#     # Extract the data from the table\n",
    "#     for row in table.find_all('tr')[2:]:  # Starting from the third row to skip the header and total row\n",
    "#         cells = row.find_all('td')\n",
    "#         item = cells[0].get_text().strip()\n",
    "#         data = {\n",
    "#             headers_text[1]: cells[1].get_text().strip(),\n",
    "#             headers_text[2]: cells[2].get_text().strip(),\n",
    "#             headers_text[3]: cells[3].get_text().strip(),\n",
    "#             headers_text[4]: cells[4].get_text().strip()\n",
    "#         }\n",
    "#         table_data[item] = data\n",
    "\n",
    "    \n",
    "\n",
    "#     # Convert the data to a JSON string with indentation\n",
    "#     json_data = json.dumps(table_data, indent=4, ensure_ascii=False)\n",
    "\n",
    "#     # Print the indented JSON\n",
    "#     #print(json_data)\n",
    "\n",
    "#     # Define the directory and file name\n",
    "#     directory = 'json_output'\n",
    "#     if not os.path.exists(directory):\n",
    "#         os.makedirs(directory)\n",
    "#     file_path = os.path.join(directory, f'{nome_dados}.json')\n",
    "\n",
    "#     # Save the JSON data to a file\n",
    "#     with open(file_path, 'w', encoding='utf-8') as json_file:\n",
    "#         json_file.write(json_data)\n",
    "#     print(f'Dados salvos em: {file_path}')"
   ]
  },
  {
   "cell_type": "code",
   "execution_count": 4,
   "metadata": {},
   "outputs": [],
   "source": [
    "import json\n",
    "import os\n",
    "from selenium.webdriver.common.by import By\n",
    "from selenium.webdriver.support.ui import WebDriverWait\n",
    "from selenium.webdriver.support import expected_conditions as EC\n",
    "from bs4 import BeautifulSoup\n",
    "\n",
    "def ler_tabela(nome_dados):\n",
    "    html_table = wait.until(EC.presence_of_element_located((By.ID, 'tbTabela')))\n",
    "    \n",
    "    # Passar o objeto html_table para BeautifulSoup\n",
    "    soup = BeautifulSoup(html_table.get_attribute('outerHTML'), 'html.parser')\n",
    "    \n",
    "    # Find the table element\n",
    "    table = soup.find('table')\n",
    "    \n",
    "    # Initialize an empty dictionary to store the table data\n",
    "    table_data = {}\n",
    "    \n",
    "    # Extract the headers from the table\n",
    "    header_row = table.find_all('tr')[1]  # Assuming the second row is the header\n",
    "    headers = header_row.find_all('th')\n",
    "    headers_text = [header.text.strip().replace('.', '') for header in headers]  # Remove dots from headers\n",
    "    \n",
    "    # Extract the data from the table\n",
    "    for row in table.find_all('tr')[2:]:  # Starting from the third row to skip the header and total row\n",
    "        cells = row.find_all('td')\n",
    "        item = cells[0].get_text().strip().replace('.', '')  # Remove dots from item\n",
    "        # Remove all dots from the text data\n",
    "        cells_text = [cell.get_text().strip().replace('.', '') for cell in cells[1:]]\n",
    "        data = {\n",
    "            headers_text[i+1]: cells_text[i] for i in range(len(cells_text))\n",
    "        }\n",
    "        table_data[item] = data\n",
    "    \n",
    "    # Convert the data to a JSON string with indentation\n",
    "    json_data = json.dumps(table_data, indent=4, ensure_ascii=False)\n",
    "    \n",
    "    # Define the directory and file name\n",
    "    directory = 'json_output'\n",
    "    if not os.path.exists(directory):\n",
    "        os.makedirs(directory)\n",
    "    file_path = os.path.join(directory, f'{nome_dados}.json')\n",
    "    \n",
    "    # Save the JSON data to a file\n",
    "    with open(file_path, 'w', encoding='utf-8') as json_file:\n",
    "        json_file.write(json_data)\n",
    "    print(f'Dados salvos em: {file_path}')\n"
   ]
  },
  {
   "cell_type": "markdown",
   "metadata": {},
   "source": [
    "### 1.4 Seleção de Recursos"
   ]
  },
  {
   "cell_type": "markdown",
   "metadata": {},
   "source": [
    "1.4.1 CFEM"
   ]
  },
  {
   "cell_type": "code",
   "execution_count": 5,
   "metadata": {},
   "outputs": [],
   "source": [
    "# Selecionando CFEM na Tabela # Pagina Inicial > Despesas > Fonte de Recurso > CFEM\n",
    "wait.until(EC.presence_of_element_located((By.TAG_NAME, 'body')))\n",
    "try:\n",
    "    # Localize o link pelo texto\n",
    "    link_cfem = driver.find_element(By.LINK_TEXT, \"Transf União Referente à Compensação Financeira de Recursos Minerais\")\n",
    "    \n",
    "    # Clique no link\n",
    "    link_cfem.click()\n",
    "\n",
    "except TimeoutException:\n",
    "    print(\"Ocorreu um timeout ao esperar por um elemento.\")\n",
    "except NoSuchElementException:\n",
    "    print(\"Não foi possível encontrar um elemento.\")\n"
   ]
  },
  {
   "cell_type": "markdown",
   "metadata": {},
   "source": [
    "1.4.2 Detalhamento da fonte de despesa (CFEM Ordinário)"
   ]
  },
  {
   "cell_type": "code",
   "execution_count": 6,
   "metadata": {},
   "outputs": [
    {
     "name": "stdout",
     "output_type": "stream",
     "text": [
      "Dados salvos em: json_output\\desp_por_fonte.json\n"
     ]
    }
   ],
   "source": [
    "ler_tabela(\"desp_por_fonte\")"
   ]
  },
  {
   "cell_type": "code",
   "execution_count": 8,
   "metadata": {},
   "outputs": [],
   "source": [
    "# Selecionando Recurso Ordinário - CFEM na Tabela # Pagina Inicial > Despesas > Fonte de Recurso > CFEM > Recurso Ordinário\n",
    "wait.until(EC.presence_of_element_located((By.TAG_NAME, 'body')))\n",
    "try:\n",
    "    # Localize o link pelo texto\n",
    "    link_recurso_ord_cfem = driver.find_element(By.LINK_TEXT, \"000.0911 - Recurso Ordinário - CFEM\")\n",
    "    \n",
    "    # Clique no link\n",
    "    link_recurso_ord_cfem.click()\n",
    "\n",
    "except TimeoutException:\n",
    "    print(\"Ocorreu um timeout ao esperar por um elemento.\")\n",
    "except NoSuchElementException:\n",
    "    print(\"Não foi possível encontrar um elemento.\")"
   ]
  },
  {
   "cell_type": "markdown",
   "metadata": {},
   "source": [
    "### 2.1 Ler tabela e salvar links numa lista"
   ]
  },
  {
   "cell_type": "code",
   "execution_count": 9,
   "metadata": {},
   "outputs": [
    {
     "name": "stdout",
     "output_type": "stream",
     "text": [
      "Dados salvos em: json_output\\naturezas_despesas.json\n"
     ]
    }
   ],
   "source": [
    "ler_tabela(\"naturezas_despesas\")"
   ]
  },
  {
   "cell_type": "code",
   "execution_count": 81,
   "metadata": {},
   "outputs": [],
   "source": [
    "desc_natureza_despesa:str = '4.4.90.51 - Obras e Instalações'\n",
    "def seleciona_natureza_despesa(id_tabela, descrição_natureza):\n",
    "  \n",
    "  wait.until(EC.presence_of_element_located((By.TAG_NAME, 'body')))\n",
    "\n",
    "\n",
    "  table = driver.find_element(By.ID, id_tabela)\n",
    "\n",
    "  # links = set()   ---> garante que os links sejam unicos\n",
    "  links = []  # Lista garante a ordem de inserção dos links\n",
    "  rows = table.find_elements(By.TAG_NAME, 'tr')\n",
    "  for row in rows:\n",
    "    try:\n",
    "        link = row.find_element(By.XPATH, './td[1]//a') # encontrar um link dentro da primeira coluna\n",
    "        href = link.get_attribute('href')\n",
    "        links.append(href)  # Add para set / append para list\n",
    "    except:\n",
    "        continue\n",
    "    #for link in links:\n",
    "    #print(link)\n",
    "\n",
    "  link_cfem_obras = driver.find_element(By.LINK_TEXT, descrição_natureza)\n",
    "  link_cfem_obras.click()\n",
    "\n",
    "    \n",
    "seleciona_natureza_despesa('tbTabela',desc_natureza_despesa)"
   ]
  },
  {
   "cell_type": "code",
   "execution_count": 82,
   "metadata": {},
   "outputs": [
    {
     "ename": "TypeError",
     "evalue": "ler_tabela() missing 1 required positional argument: 'nome_dados'",
     "output_type": "error",
     "traceback": [
      "\u001b[1;31m---------------------------------------------------------------------------\u001b[0m",
      "\u001b[1;31mTypeError\u001b[0m                                 Traceback (most recent call last)",
      "Cell \u001b[1;32mIn[82], line 1\u001b[0m\n\u001b[1;32m----> 1\u001b[0m \u001b[43mler_tabela\u001b[49m\u001b[43m(\u001b[49m\u001b[43m)\u001b[49m\n",
      "\u001b[1;31mTypeError\u001b[0m: ler_tabela() missing 1 required positional argument: 'nome_dados'"
     ]
    }
   ],
   "source": [
    "ler_tabela()"
   ]
  },
  {
   "cell_type": "code",
   "execution_count": null,
   "metadata": {},
   "outputs": [],
   "source": [
    "def clicar_linhas_primeira_coluna(driver, tabela_id):\n",
    "    wait = WebDriverWait(driver, 10)\n",
    "    wait.until(EC.presence_of_element_located((By.TAG_NAME, 'body')))\n",
    "    \n",
    "    table = driver.find_element(By.ID, tabela_id)\n",
    "    # Extrair os links da primeira coluna\n",
    "    rows = table.find_elements(By.TAG_NAME, 'tr')\n",
    "    \n",
    "    for index, val in enumerate(rows):\n",
    "        if index == 0 or index == 1: continue\n",
    "        try:\n",
    "            table = driver.find_element(By.ID, tabela_id)\n",
    "            rows = table.find_elements(By.TAG_NAME, 'tr')\n",
    "            link = rows[index].find_element(By.XPATH, './td[1]/a')\n",
    "            link.click()\n",
    "            ler_tabela()\n",
    "            driver.back()\n",
    "            WebDriverWait(driver, 20).until(EC.visibility_of_element_located((By.ID, tabela_id)))\n",
    "            time.sleep(2)\n",
    "        except Exception as err:  \n",
    "            print(err)\n",
    "\n",
    "clicar_linhas_primeira_coluna(driver,'tbTabela')"
   ]
  },
  {
   "cell_type": "code",
   "execution_count": null,
   "metadata": {},
   "outputs": [],
   "source": [
    "import json\n",
    "from bson.decimal128 import Decimal128\n",
    "\n",
    "# Função para converter valores monetários\n",
    "def converter_valores(json_obj, nome_arquivo):\n",
    "    for key, value in json_obj.items():\n",
    "        if isinstance(value, dict):\n",
    "            converter_valores(value, nome_arquivo)  # Chamar recursivamente com o mesmo nome do arquivo\n",
    "        else:\n",
    "            if isinstance(value, str) and value.startswith(\"R$\"):\n",
    "                # Remover \"R$ \" e converter para float\n",
    "                valor_convertido = value.replace(\"R$ \", \"\").replace(\".\", \"\").replace(\",\", \".\")\n",
    "                # Atualizar valor no JSON como Decimal128\n",
    "                json_obj[key] = str(Decimal128(valor_convertido))\n",
    "\n",
    "\n"
   ]
  },
  {
   "cell_type": "code",
   "execution_count": null,
   "metadata": {},
   "outputs": [],
   "source": [
    "# Nome do arquivo\n",
    "nome_arquivo = \"desp_por_fonte.json\"\n",
    "\n",
    "# Ler o arquivo JSON\n",
    "with open(f\"json_output/{nome_arquivo}\", 'r', encoding='utf-8') as file:\n",
    "    json_data = json.load(file)\n",
    "\n",
    "# Converter os valores no JSON, passando o nome do arquivo como parâmetro\n",
    "converter_valores(json_data, nome_arquivo)\n",
    "\n",
    "# Salvar o JSON atualizado de volta no arquivo\n",
    "with open(f\"json_output/{nome_arquivo}\", 'w', encoding='utf-8') as file:\n",
    "    json.dump(json_data, file, ensure_ascii=False, indent=4)\n",
    "\n",
    "print(\"Arquivo atualizado com sucesso.\")"
   ]
  },
  {
   "cell_type": "code",
   "execution_count": 10,
   "metadata": {},
   "outputs": [
    {
     "name": "stdout",
     "output_type": "stream",
     "text": [
      "Arquivo atualizado com sucesso.\n"
     ]
    }
   ],
   "source": [
    "# Nome do arquivo\n",
    "nome_arquivo = \"naturezas_despesas.json\"\n",
    "\n",
    "# Ler o arquivo JSON\n",
    "with open(f\"json_output/{nome_arquivo}\", 'r', encoding='utf-8') as file:\n",
    "    json_data = json.load(file)\n",
    "\n",
    "# Converter os valores no JSON, passando o nome do arquivo como parâmetro\n",
    "converter_valores(json_data, nome_arquivo)\n",
    "\n",
    "# Salvar o JSON atualizado de volta no arquivo\n",
    "with open(f\"json_output/{nome_arquivo}\", 'w', encoding='utf-8') as file:\n",
    "    json.dump(json_data, file, ensure_ascii=False, indent=4)\n",
    "\n",
    "print(\"Arquivo atualizado com sucesso.\")"
   ]
  }
 ],
 "metadata": {
  "kernelspec": {
   "display_name": "Python 3",
   "language": "python",
   "name": "python3"
  },
  "language_info": {
   "codemirror_mode": {
    "name": "ipython",
    "version": 3
   },
   "file_extension": ".py",
   "mimetype": "text/x-python",
   "name": "python",
   "nbconvert_exporter": "python",
   "pygments_lexer": "ipython3",
   "version": "3.11.5"
  }
 },
 "nbformat": 4,
 "nbformat_minor": 2
}
